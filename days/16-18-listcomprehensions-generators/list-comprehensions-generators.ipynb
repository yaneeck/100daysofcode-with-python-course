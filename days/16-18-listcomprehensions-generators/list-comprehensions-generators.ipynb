{
 "cells": [
  {
   "cell_type": "markdown",
   "metadata": {},
   "source": [
    "## First day: list comprehensions and generators"
   ]
  },
  {
   "cell_type": "markdown",
   "metadata": {},
   "source": [
    "> List comprehensions and generators are in my top 5 favorite Python features leading to clean, robust and Pythonic code. "
   ]
  },
  {
   "cell_type": "code",
   "execution_count": 1,
   "metadata": {
    "ExecuteTime": {
     "end_time": "2023-12-23T13:21:25.959843Z",
     "start_time": "2023-12-23T13:21:25.378568Z"
    }
   },
   "outputs": [],
   "source": [
    "from collections import Counter\n",
    "import calendar\n",
    "import itertools\n",
    "import random\n",
    "import re\n",
    "import string\n",
    "\n",
    "import requests"
   ]
  },
  {
   "cell_type": "markdown",
   "metadata": {},
   "source": [
    "### List comprehensions"
   ]
  },
  {
   "cell_type": "markdown",
   "metadata": {},
   "source": [
    "Let's dive straight into a practical example. We all know how to use the classic for loop in Python, say I want to loop through a bunch of names title-casing each one:"
   ]
  },
  {
   "cell_type": "code",
   "execution_count": 2,
   "metadata": {
    "ExecuteTime": {
     "end_time": "2023-12-23T13:21:26.096772Z",
     "start_time": "2023-12-23T13:21:25.958219Z"
    }
   },
   "outputs": [
    {
     "data": {
      "text/plain": "['pybites', 'mike', 'bob', 'julian', 'tim', 'sara', 'guido']"
     },
     "execution_count": 2,
     "metadata": {},
     "output_type": "execute_result"
    }
   ],
   "source": [
    "names = 'pybites mike bob julian tim sara guido'.split()\n",
    "names"
   ]
  },
  {
   "cell_type": "code",
   "execution_count": 3,
   "metadata": {
    "ExecuteTime": {
     "end_time": "2023-12-23T13:22:39.128558Z",
     "start_time": "2023-12-23T13:22:39.055674Z"
    }
   },
   "outputs": [
    {
     "name": "stdout",
     "output_type": "stream",
     "text": [
      "Pybites\n",
      "Mike\n",
      "Bob\n",
      "Julian\n",
      "Tim\n",
      "Sara\n",
      "Guido\n"
     ]
    }
   ],
   "source": [
    "for name in names:\n",
    "    print(name.title())"
   ]
  },
  {
   "cell_type": "markdown",
   "metadata": {},
   "source": [
    "Then I want to only keep the names that start with A-M, the `strings` module makes it easier (we love Python's standard library!):"
   ]
  },
  {
   "cell_type": "code",
   "execution_count": 4,
   "metadata": {
    "ExecuteTime": {
     "end_time": "2023-12-23T13:23:24.681038Z",
     "start_time": "2023-12-23T13:23:24.599626Z"
    }
   },
   "outputs": [
    {
     "data": {
      "text/plain": "['a', 'b', 'c', 'd', 'e', 'f', 'g', 'h', 'i', 'j', 'k', 'l', 'm']"
     },
     "execution_count": 4,
     "metadata": {},
     "output_type": "execute_result"
    }
   ],
   "source": [
    "first_half_alphabet = list(string.ascii_lowercase)[:13]\n",
    "first_half_alphabet"
   ]
  },
  {
   "cell_type": "code",
   "execution_count": 5,
   "metadata": {
    "ExecuteTime": {
     "end_time": "2023-12-23T13:26:33.512351Z",
     "start_time": "2023-12-23T13:26:33.403622Z"
    }
   },
   "outputs": [
    {
     "data": {
      "text/plain": "['Mike', 'Bob', 'Julian', 'Guido']"
     },
     "execution_count": 5,
     "metadata": {},
     "output_type": "execute_result"
    }
   ],
   "source": [
    "new_names = []\n",
    "for name in names:\n",
    "    if name[0] in first_half_alphabet:\n",
    "        new_names.append(name.title())\n",
    "new_names"
   ]
  },
  {
   "cell_type": "markdown",
   "metadata": {},
   "source": [
    "\n",
    "Feels verbose, not? \n",
    "\n",
    "If you don't know about list comprehensions you might start using them everywhere after seeing the next refactoring:"
   ]
  },
  {
   "cell_type": "code",
   "execution_count": 6,
   "metadata": {
    "ExecuteTime": {
     "end_time": "2023-12-23T13:27:16.624438Z",
     "start_time": "2023-12-23T13:27:16.496353Z"
    }
   },
   "outputs": [
    {
     "data": {
      "text/plain": "['Mike', 'Bob', 'Julian', 'Guido']"
     },
     "execution_count": 6,
     "metadata": {},
     "output_type": "execute_result"
    }
   ],
   "source": [
    "new_names2 = [name.title() for name in names if name[0] in first_half_alphabet]\n",
    "new_names2"
   ]
  },
  {
   "cell_type": "code",
   "execution_count": 7,
   "metadata": {
    "ExecuteTime": {
     "end_time": "2023-12-23T13:28:34.659794Z",
     "start_time": "2023-12-23T13:28:34.486761Z"
    }
   },
   "outputs": [],
   "source": [
    "assert new_names == new_names2"
   ]
  },
  {
   "cell_type": "markdown",
   "metadata": {},
   "source": [
    "From 4 to 1 lines of code, and it reads pretty well too. That's why we love and stick with Python! \n",
    "\n",
    "Here is another example I used recently to do a most common word count on Harry Potter. I used some list comprehensions to clean up the words before counting them:"
   ]
  },
  {
   "cell_type": "code",
   "execution_count": 34,
   "metadata": {
    "ExecuteTime": {
     "end_time": "2023-12-23T17:43:23.349946Z",
     "start_time": "2023-12-23T17:43:22.439530Z"
    }
   },
   "outputs": [
    {
     "data": {
      "text/plain": "['the', 'boy', 'who', 'lived', 'mr.']"
     },
     "execution_count": 34,
     "metadata": {},
     "output_type": "execute_result"
    }
   ],
   "source": [
    "resp = requests.get('https://bites-data.s3.us-east-2.amazonaws.com/harry.txt')\n",
    "# print(resp.text)\n",
    "words = resp.text.lower().split()\n",
    "words[:5]"
   ]
  },
  {
   "cell_type": "code",
   "execution_count": 35,
   "metadata": {
    "ExecuteTime": {
     "end_time": "2023-12-23T18:16:07.770928Z",
     "start_time": "2023-12-23T18:16:07.638087Z"
    }
   },
   "outputs": [
    {
     "data": {
      "text/plain": "[('the', 202), ('he', 136), ('a', 108), ('and', 100), ('to', 93)]"
     },
     "execution_count": 35,
     "metadata": {},
     "output_type": "execute_result"
    }
   ],
   "source": [
    "cnt = Counter(words)\n",
    "cnt.most_common(5)"
   ]
  },
  {
   "cell_type": "markdown",
   "metadata": {},
   "source": [
    "Hmm should not count stopwords, also:"
   ]
  },
  {
   "cell_type": "code",
   "execution_count": 36,
   "metadata": {
    "ExecuteTime": {
     "end_time": "2023-12-23T18:16:18.221415Z",
     "start_time": "2023-12-23T18:16:18.164261Z"
    }
   },
   "outputs": [
    {
     "data": {
      "text/plain": "True"
     },
     "execution_count": 36,
     "metadata": {},
     "output_type": "execute_result"
    }
   ],
   "source": [
    "'-' in words"
   ]
  },
  {
   "cell_type": "markdown",
   "metadata": {},
   "source": [
    "Let's first clean up any non-alphabetic characters:"
   ]
  },
  {
   "cell_type": "code",
   "execution_count": 37,
   "metadata": {
    "ExecuteTime": {
     "end_time": "2023-12-24T13:58:49.096344Z",
     "start_time": "2023-12-24T13:58:49.090543Z"
    }
   },
   "outputs": [],
   "source": [
    "words = [re.sub(r'\\W+', r'', word) for word in words]"
   ]
  },
  {
   "cell_type": "code",
   "execution_count": 38,
   "metadata": {
    "ExecuteTime": {
     "end_time": "2023-12-24T13:58:53.919982Z",
     "start_time": "2023-12-24T13:58:53.836921Z"
    }
   },
   "outputs": [
    {
     "data": {
      "text/plain": "False"
     },
     "execution_count": 38,
     "metadata": {},
     "output_type": "execute_result"
    }
   ],
   "source": [
    "'-' in words"
   ]
  },
  {
   "cell_type": "code",
   "execution_count": 39,
   "metadata": {
    "ExecuteTime": {
     "end_time": "2023-12-24T13:58:56.418570Z",
     "start_time": "2023-12-24T13:58:56.253786Z"
    }
   },
   "outputs": [
    {
     "data": {
      "text/plain": "True"
     },
     "execution_count": 39,
     "metadata": {},
     "output_type": "execute_result"
    }
   ],
   "source": [
    "'the' in words"
   ]
  },
  {
   "cell_type": "markdown",
   "metadata": {},
   "source": [
    "Ok let's filter those stopwords out plus the empty strings caussed by the previous list comprehension:"
   ]
  },
  {
   "cell_type": "code",
   "execution_count": 41,
   "metadata": {
    "ExecuteTime": {
     "end_time": "2023-12-24T14:01:42.786399Z",
     "start_time": "2023-12-24T14:01:42.003913Z"
    }
   },
   "outputs": [
    {
     "name": "stdout",
     "output_type": "stream",
     "text": [
      "a\n",
      "about\n",
      "above\n",
      "across\n",
      "after\n",
      "afterwards\n",
      "again\n",
      "against\n",
      "all\n",
      "almost\n",
      "alone\n",
      "along\n",
      "already\n",
      "also\n",
      "although\n",
      "always\n",
      "am\n",
      "among\n",
      "amongst\n",
      "amoungst\n",
      "amount\n",
      "an\n",
      "and\n",
      "another\n",
      "any\n",
      "anyhow\n",
      "anyone\n",
      "anything\n",
      "anyway\n",
      "anywhere\n",
      "are\n",
      "around\n",
      "as\n",
      "at\n",
      "back\n",
      "be\n",
      "became\n",
      "because\n",
      "become\n",
      "becomes\n",
      "becoming\n",
      "been\n",
      "before\n",
      "beforehand\n",
      "behind\n",
      "being\n",
      "below\n",
      "beside\n",
      "besides\n",
      "between\n",
      "beyond\n",
      "bill\n",
      "both\n",
      "bottom\n",
      "but\n",
      "by\n",
      "call\n",
      "can\n",
      "cannot\n",
      "cant\n",
      "co\n",
      "computer\n",
      "con\n",
      "could\n",
      "couldnt\n",
      "cry\n",
      "de\n",
      "describe\n",
      "detail\n",
      "do\n",
      "done\n",
      "down\n",
      "due\n",
      "during\n",
      "each\n",
      "eg\n",
      "eight\n",
      "either\n",
      "eleven\n",
      "else\n",
      "elsewhere\n",
      "empty\n",
      "enough\n",
      "etc\n",
      "even\n",
      "ever\n",
      "every\n",
      "everyone\n",
      "everything\n",
      "everywhere\n",
      "except\n",
      "few\n",
      "fifteen\n",
      "fify\n",
      "fill\n",
      "find\n",
      "fire\n",
      "first\n",
      "five\n",
      "for\n",
      "former\n",
      "formerly\n",
      "forty\n",
      "found\n",
      "four\n",
      "from\n",
      "front\n",
      "full\n",
      "further\n",
      "get\n",
      "give\n",
      "go\n",
      "had\n",
      "has\n",
      "hasnt\n",
      "have\n",
      "he\n",
      "hence\n",
      "her\n",
      "here\n",
      "hereafter\n",
      "hereby\n",
      "herein\n",
      "hereupon\n",
      "hers\n",
      "herse\"\n",
      "him\n",
      "himse\"\n",
      "his\n",
      "how\n",
      "however\n",
      "hundred\n",
      "i\n",
      "ie\n",
      "if\n",
      "in\n",
      "inc\n",
      "indeed\n",
      "interest\n",
      "into\n",
      "is\n",
      "it\n",
      "its\n",
      "itse\"\n",
      "keep\n",
      "last\n",
      "latter\n",
      "latterly\n",
      "least\n",
      "less\n",
      "ltd\n",
      "made\n",
      "many\n",
      "may\n",
      "me\n",
      "meanwhile\n",
      "might\n",
      "mill\n",
      "mine\n",
      "more\n",
      "moreover\n",
      "most\n",
      "mostly\n",
      "move\n",
      "much\n",
      "must\n",
      "my\n",
      "myse\"\n",
      "name\n",
      "namely\n",
      "neither\n",
      "never\n",
      "nevertheless\n",
      "next\n",
      "nine\n",
      "no\n",
      "nobody\n",
      "none\n",
      "noone\n",
      "nor\n",
      "not\n",
      "nothing\n",
      "now\n",
      "nowhere\n",
      "of\n",
      "off\n",
      "often\n",
      "on\n",
      "once\n",
      "one\n",
      "only\n",
      "onto\n",
      "or\n",
      "other\n",
      "others\n",
      "otherwise\n",
      "our\n",
      "ours\n",
      "ourselves\n",
      "out\n",
      "over\n",
      "own\n",
      "part\n",
      "per\n",
      "perhaps\n",
      "please\n",
      "put\n",
      "rather\n",
      "re\n",
      "same\n",
      "see\n",
      "seem\n",
      "seemed\n",
      "seeming\n",
      "seems\n",
      "serious\n",
      "several\n",
      "she\n",
      "should\n",
      "show\n",
      "side\n",
      "since\n",
      "sincere\n",
      "six\n",
      "sixty\n",
      "so\n",
      "some\n",
      "somehow\n",
      "someone\n",
      "something\n",
      "sometime\n",
      "sometimes\n",
      "somewhere\n",
      "still\n",
      "such\n",
      "system\n",
      "take\n",
      "ten\n",
      "than\n",
      "that\n",
      "the\n",
      "their\n",
      "them\n",
      "themselves\n",
      "then\n",
      "thence\n",
      "there\n",
      "thereafter\n",
      "thereby\n",
      "therefore\n",
      "therein\n",
      "thereupon\n",
      "these\n",
      "they\n",
      "thick\n",
      "thin\n",
      "third\n",
      "this\n",
      "those\n",
      "though\n",
      "three\n",
      "through\n",
      "throughout\n",
      "thru\n",
      "thus\n",
      "to\n",
      "together\n",
      "too\n",
      "top\n",
      "toward\n",
      "towards\n",
      "twelve\n",
      "twenty\n",
      "two\n",
      "un\n",
      "under\n",
      "until\n",
      "up\n",
      "upon\n",
      "us\n",
      "very\n",
      "via\n",
      "was\n",
      "we\n",
      "well\n",
      "were\n",
      "what\n",
      "whatever\n",
      "when\n",
      "whence\n",
      "whenever\n",
      "where\n",
      "whereafter\n",
      "whereas\n",
      "whereby\n",
      "wherein\n",
      "whereupon\n",
      "wherever\n",
      "whether\n",
      "which\n",
      "while\n",
      "whither\n",
      "who\n",
      "whoever\n",
      "whole\n",
      "whom\n",
      "whose\n",
      "why\n",
      "will\n",
      "with\n",
      "within\n",
      "without\n",
      "would\n",
      "yet\n",
      "you\n",
      "your\n",
      "yours\n",
      "yourself\n",
      "yourselves\n"
     ]
    },
    {
     "data": {
      "text/plain": "['a', 'about', 'above', 'across', 'after']"
     },
     "execution_count": 41,
     "metadata": {},
     "output_type": "execute_result"
    }
   ],
   "source": [
    "resp = requests.get('https://bites-data.s3.us-east-2.amazonaws.com/stopwords.txt')\n",
    "print(resp.text)\n",
    "stopwords = resp.text.lower().split()\n",
    "stopwords[:5]  "
   ]
  },
  {
   "cell_type": "code",
   "execution_count": 43,
   "metadata": {
    "ExecuteTime": {
     "end_time": "2023-12-24T14:02:27.953911Z",
     "start_time": "2023-12-24T14:02:27.868635Z"
    }
   },
   "outputs": [
    {
     "data": {
      "text/plain": "['boy', 'lived', 'mr', 'mrs', 'dursley']"
     },
     "execution_count": 43,
     "metadata": {},
     "output_type": "execute_result"
    }
   ],
   "source": [
    "words[:]\n",
    "words = [word for word in words if word.strip() and word not in stopwords]\n",
    "words[:5]"
   ]
  },
  {
   "cell_type": "code",
   "execution_count": 44,
   "metadata": {
    "ExecuteTime": {
     "end_time": "2023-12-24T14:04:54.020660Z",
     "start_time": "2023-12-24T14:04:53.941872Z"
    }
   },
   "outputs": [
    {
     "data": {
      "text/plain": "False"
     },
     "execution_count": 44,
     "metadata": {},
     "output_type": "execute_result"
    }
   ],
   "source": [
    "'the' in words"
   ]
  },
  {
   "cell_type": "markdown",
   "metadata": {},
   "source": [
    "Now it looks way better:"
   ]
  },
  {
   "cell_type": "code",
   "execution_count": 45,
   "metadata": {
    "ExecuteTime": {
     "end_time": "2023-12-24T14:05:08.597780Z",
     "start_time": "2023-12-24T14:05:08.511814Z"
    }
   },
   "outputs": [
    {
     "data": {
      "text/plain": "[('dursley', 45),\n ('dumbledore', 35),\n ('said', 32),\n ('mr', 30),\n ('professor', 30)]"
     },
     "execution_count": 45,
     "metadata": {},
     "output_type": "execute_result"
    }
   ],
   "source": [
    "cnt = Counter(words)\n",
    "cnt.most_common(5)"
   ]
  },
  {
   "cell_type": "markdown",
   "metadata": {},
   "source": [
    "What's interesting here is that the first bit of the list comprehension can be an expression like `re.sub`. The final bit can be a compound statement: here we checked for a non-empty word (' ' -> `strip()` -> '' = `False` in Python) `and` we checked `word not in stopwords`. \n",
    "\n",
    "Again, a lot is going on in one line of code, but the beauty of it is that it is totally fine, because it reads like plain English :)"
   ]
  },
  {
   "cell_type": "markdown",
   "metadata": {},
   "source": [
    "### Generators"
   ]
  },
  {
   "cell_type": "markdown",
   "metadata": {},
   "source": [
    "A generator is a function that returns an iterator. It generates values using the `yield` keyword, when called with next() (a for loop does this implicitly), and it raises a `StopIteration` exception when there are no more values to generate. Let's see what this means with a very simple example:"
   ]
  },
  {
   "cell_type": "code",
   "execution_count": 14,
   "metadata": {
    "ExecuteTime": {
     "end_time": "2023-12-23T14:30:10.024295Z",
     "start_time": "2023-12-23T14:30:09.991483Z"
    }
   },
   "outputs": [],
   "source": [
    "def num_gen():\n",
    "    for i in range(5):\n",
    "        yield i\n",
    "        \n",
    "gen = num_gen()"
   ]
  },
  {
   "cell_type": "code",
   "execution_count": 16,
   "metadata": {
    "ExecuteTime": {
     "end_time": "2023-12-23T14:30:16.147725Z",
     "start_time": "2023-12-23T14:30:16.073546Z"
    }
   },
   "outputs": [
    {
     "data": {
      "text/plain": "1"
     },
     "execution_count": 16,
     "metadata": {},
     "output_type": "execute_result"
    }
   ],
   "source": [
    "next(gen)"
   ]
  },
  {
   "cell_type": "code",
   "execution_count": 17,
   "metadata": {
    "ExecuteTime": {
     "end_time": "2023-12-23T14:30:19.153856Z",
     "start_time": "2023-12-23T14:30:19.058891Z"
    }
   },
   "outputs": [
    {
     "name": "stdout",
     "output_type": "stream",
     "text": [
      "2\n",
      "3\n",
      "4\n"
     ]
    }
   ],
   "source": [
    "# note it takes off where we left it last statement\n",
    "for i in gen:\n",
    "    print(i)"
   ]
  },
  {
   "cell_type": "code",
   "execution_count": 18,
   "metadata": {
    "ExecuteTime": {
     "end_time": "2023-12-23T14:33:52.386268Z",
     "start_time": "2023-12-23T14:33:52.312022Z"
    }
   },
   "outputs": [
    {
     "ename": "StopIteration",
     "evalue": "",
     "output_type": "error",
     "traceback": [
      "\u001B[0;31m---------------------------------------------------------------------------\u001B[0m",
      "\u001B[0;31mStopIteration\u001B[0m                             Traceback (most recent call last)",
      "Cell \u001B[0;32mIn[18], line 2\u001B[0m\n\u001B[1;32m      1\u001B[0m \u001B[38;5;66;03m# no more values to generate\u001B[39;00m\n\u001B[0;32m----> 2\u001B[0m \u001B[38;5;28;43mnext\u001B[39;49m\u001B[43m(\u001B[49m\u001B[43mgen\u001B[49m\u001B[43m)\u001B[49m\n",
      "\u001B[0;31mStopIteration\u001B[0m: "
     ]
    }
   ],
   "source": [
    "# no more values to generate\n",
    "next(gen)"
   ]
  },
  {
   "cell_type": "code",
   "execution_count": 19,
   "metadata": {
    "ExecuteTime": {
     "end_time": "2023-12-23T14:36:18.040266Z",
     "start_time": "2023-12-23T14:36:17.977219Z"
    }
   },
   "outputs": [],
   "source": [
    "# for catches the exception for us\n",
    "for i in gen:\n",
    "    print(i)"
   ]
  },
  {
   "cell_type": "markdown",
   "metadata": {},
   "source": [
    "> The `StopIteration` error appears because there are no more yield statements in the function. Calling next on the generator after this does not cause it to loop over and start again. - [Generators are Awesome, Learning by Example\n",
    "](https://pybit.es/generators.html)\n",
    "\n",
    "\n"
   ]
  },
  {
   "cell_type": "markdown",
   "metadata": {},
   "source": [
    "Since learning about generators, a common pattern I use is to build up my sequences:"
   ]
  },
  {
   "cell_type": "code",
   "execution_count": 20,
   "metadata": {
    "ExecuteTime": {
     "end_time": "2023-12-23T14:37:20.629265Z",
     "start_time": "2023-12-23T14:37:20.565310Z"
    }
   },
   "outputs": [
    {
     "data": {
      "text/plain": "['red', 'yellow', 'blue', 'white', 'black', 'green', 'purple']"
     },
     "execution_count": 20,
     "metadata": {},
     "output_type": "execute_result"
    }
   ],
   "source": [
    "options = 'red yellow blue white black green purple'.split()\n",
    "options"
   ]
  },
  {
   "cell_type": "markdown",
   "metadata": {},
   "source": [
    "My older code:"
   ]
  },
  {
   "cell_type": "code",
   "execution_count": 21,
   "metadata": {
    "ExecuteTime": {
     "end_time": "2023-12-23T14:37:27.440331Z",
     "start_time": "2023-12-23T14:37:27.375384Z"
    }
   },
   "outputs": [],
   "source": [
    "def create_select_options(options=options):\n",
    "    select_list = []\n",
    "    \n",
    "    for option in options:\n",
    "        select_list.append(f'<option value={option}>{option.title()}</option>')\n",
    "    \n",
    "    return select_list"
   ]
  },
  {
   "cell_type": "code",
   "execution_count": 22,
   "metadata": {
    "ExecuteTime": {
     "end_time": "2023-12-23T14:37:40.700785Z",
     "start_time": "2023-12-23T14:37:40.640087Z"
    }
   },
   "outputs": [
    {
     "name": "stdout",
     "output_type": "stream",
     "text": [
      "['<option value=red>Red</option>',\n",
      " '<option value=yellow>Yellow</option>',\n",
      " '<option value=blue>Blue</option>',\n",
      " '<option value=white>White</option>',\n",
      " '<option value=black>Black</option>',\n",
      " '<option value=green>Green</option>',\n",
      " '<option value=purple>Purple</option>']\n"
     ]
    }
   ],
   "source": [
    "from pprint import pprint as pp\n",
    "pp(create_select_options())"
   ]
  },
  {
   "cell_type": "markdown",
   "metadata": {},
   "source": [
    "Using a generator you can write this in 2 lines of code - my newer code:"
   ]
  },
  {
   "cell_type": "code",
   "execution_count": 23,
   "metadata": {
    "ExecuteTime": {
     "end_time": "2023-12-23T14:38:29.943650Z",
     "start_time": "2023-12-23T14:38:29.884295Z"
    }
   },
   "outputs": [],
   "source": [
    "def create_select_options_gen(options=options):    \n",
    "    for option in options:\n",
    "        yield f'<option value={option}>{option.title()}</option>'"
   ]
  },
  {
   "cell_type": "code",
   "execution_count": 24,
   "metadata": {
    "ExecuteTime": {
     "end_time": "2023-12-23T14:38:32.263389Z",
     "start_time": "2023-12-23T14:38:32.151644Z"
    }
   },
   "outputs": [
    {
     "name": "stdout",
     "output_type": "stream",
     "text": [
      "<generator object create_select_options_gen at 0x10fc8f5a0>\n"
     ]
    }
   ],
   "source": [
    "print(create_select_options_gen())"
   ]
  },
  {
   "cell_type": "markdown",
   "metadata": {},
   "source": [
    "Note that generators are _lazy_ so you need to explicitly consume them by iterating over them, for example by looping over them. Another way is to pass them into the `list()` constructor:"
   ]
  },
  {
   "cell_type": "code",
   "execution_count": 28,
   "metadata": {},
   "outputs": [
    {
     "data": {
      "text/plain": [
       "['<option value=red>Red</option>',\n",
       " '<option value=yellow>Yellow</option>',\n",
       " '<option value=blue>Blue</option>',\n",
       " '<option value=white>White</option>',\n",
       " '<option value=black>Black</option>',\n",
       " '<option value=green>Green</option>',\n",
       " '<option value=purple>Purple</option>']"
      ]
     },
     "execution_count": 28,
     "metadata": {},
     "output_type": "execute_result"
    }
   ],
   "source": [
    "list(create_select_options_gen())"
   ]
  },
  {
   "cell_type": "markdown",
   "metadata": {},
   "source": [
    "Specially when working with large data sets you definitely want to use generators. Lists can only get as big as they fit memory size. Generators are lazily evaluated meaning that they only hold a certain amount of data in memory at once. Just for the sake of giving Python something to do, let's calculate leap years for a million years, and compare performance of list vs generator:"
   ]
  },
  {
   "cell_type": "code",
   "execution_count": 25,
   "metadata": {
    "ExecuteTime": {
     "end_time": "2023-12-23T15:00:01.633982Z",
     "start_time": "2023-12-23T15:00:01.616862Z"
    }
   },
   "outputs": [],
   "source": [
    "# list\n",
    "def leap_years_lst(n=1000000):\n",
    "    leap_years = []\n",
    "    for year in range(1, n+1):\n",
    "        if calendar.isleap(year):\n",
    "            leap_years.append(year)\n",
    "    return leap_years\n",
    "\n",
    "# generator\n",
    "def leap_years_gen(n=1000000):\n",
    "    for year in range(1, n+1):\n",
    "        if calendar.isleap(year):\n",
    "            yield year"
   ]
  },
  {
   "cell_type": "markdown",
   "metadata": {},
   "source": [
    "PRO  tip: [since Python 3.3](https://docs.python.org/3/whatsnew/3.3.html) you can use the `yield from` syntax."
   ]
  },
  {
   "cell_type": "code",
   "execution_count": 26,
   "metadata": {
    "ExecuteTime": {
     "end_time": "2023-12-23T15:00:15.334960Z",
     "start_time": "2023-12-23T15:00:11.200847Z"
    }
   },
   "outputs": [
    {
     "name": "stdout",
     "output_type": "stream",
     "text": [
      "591 ms ± 273 ms per loop (mean ± std. dev. of 7 runs, 1 loop each)\n"
     ]
    }
   ],
   "source": [
    "# this had me waiting for a few seconds\n",
    "%timeit -n1 leap_years_lst()"
   ]
  },
  {
   "cell_type": "code",
   "execution_count": 27,
   "metadata": {
    "ExecuteTime": {
     "end_time": "2023-12-23T15:00:23.632232Z",
     "start_time": "2023-12-23T15:00:23.549590Z"
    }
   },
   "outputs": [
    {
     "name": "stdout",
     "output_type": "stream",
     "text": [
      "The slowest run took 5.22 times longer than the fastest. This could mean that an intermediate result is being cached.\n",
      "911 ns ± 628 ns per loop (mean ± std. dev. of 7 runs, 1 loop each)\n"
     ]
    }
   ],
   "source": [
    "# this was instant\n",
    "%timeit -n1 leap_years_gen()"
   ]
  },
  {
   "cell_type": "markdown",
   "metadata": {},
   "source": [
    "That is pretty impressive. This is an important concept to know about because Big Data is here to stay!"
   ]
  },
  {
   "cell_type": "markdown",
   "metadata": {},
   "source": [
    "## Second day: practice"
   ]
  },
  {
   "cell_type": "markdown",
   "metadata": {},
   "source": [
    "Look at your code and see if you can refactor it to use list comprehensions. Same for generators. Are you building up a list somewhere where you could potentially use a generator?"
   ]
  },
  {
   "cell_type": "markdown",
   "metadata": {},
   "source": [
    "And/or exercise here, take this list of names:"
   ]
  },
  {
   "cell_type": "code",
   "execution_count": 47,
   "metadata": {
    "ExecuteTime": {
     "end_time": "2023-12-24T14:39:07.313388Z",
     "start_time": "2023-12-24T14:39:07.261151Z"
    }
   },
   "outputs": [],
   "source": [
    "NAMES = ['arnold schwarzenegger', 'alec baldwin', 'bob belderbos',\n",
    "         'julian sequeira', 'sandra bullock', 'keanu reeves',\n",
    "         'julbob pybites', 'bob belderbos', 'julian sequeira',\n",
    "         'al pacino', 'brad pitt', 'matt damon', 'brad pitt']"
   ]
  },
  {
   "cell_type": "markdown",
   "metadata": {},
   "source": [
    "Can you write a simple list comprehension to convert these names to title case (brad pitt -> Brad Pitt). Or reverse the first and last name? "
   ]
  },
  {
   "cell_type": "code",
   "outputs": [
    {
     "name": "stdout",
     "output_type": "stream",
     "text": [
      "['Arnold Schwarzenegger',\n",
      " 'Alec Baldwin',\n",
      " 'Bob Belderbos',\n",
      " 'Julian Sequeira',\n",
      " 'Sandra Bullock',\n",
      " 'Keanu Reeves',\n",
      " 'Julbob Pybites',\n",
      " 'Bob Belderbos',\n",
      " 'Julian Sequeira',\n",
      " 'Al Pacino',\n",
      " 'Brad Pitt',\n",
      " 'Matt Damon',\n",
      " 'Brad Pitt']\n",
      "['Schwarzenegger Arnold',\n",
      " 'Baldwin Alec',\n",
      " 'Belderbos Bob',\n",
      " 'Sequeira Julian',\n",
      " 'Bullock Sandra',\n",
      " 'Reeves Keanu',\n",
      " 'Pybites Julbob',\n",
      " 'Belderbos Bob',\n",
      " 'Sequeira Julian',\n",
      " 'Pacino Al',\n",
      " 'Pitt Brad',\n",
      " 'Damon Matt',\n",
      " 'Pitt Brad']\n"
     ]
    }
   ],
   "source": [
    "from pprint import pprint\n",
    "import re\n",
    "\n",
    "pprint([name.title() for name in NAMES])\n",
    "pprint([re.sub(r\"(\\w+)\\s(\\w+)\", r\"\\2 \\1\", name).title() for name in NAMES])"
   ],
   "metadata": {
    "collapsed": false,
    "ExecuteTime": {
     "end_time": "2023-12-24T14:48:03.227737Z",
     "start_time": "2023-12-24T14:48:03.166001Z"
    }
   },
   "execution_count": 55
  },
  {
   "cell_type": "markdown",
   "metadata": {},
   "source": [
    "Then use this same list and make a little generator, for example to randomly return a pair of names, try to make this work:\n",
    "\n",
    "    pairs = gen_pairs()\n",
    "    for _ in range(10):\n",
    "        next(pairs)\n",
    "\n",
    "Should print (values might change as random):\n",
    "\n",
    "    Arnold teams up with Brad\n",
    "    Alec teams up with Julian\n",
    "\n",
    "Have fun!"
   ]
  },
  {
   "cell_type": "code",
   "outputs": [
    {
     "name": "stdout",
     "output_type": "stream",
     "text": [
      "Arnold teams up with Sandra\n",
      "Alec teams up with Arnold\n",
      "Bob teams up with Arnold\n",
      "Julian teams up with Sandra\n",
      "Sandra teams up with Alec\n",
      "Keanu teams up with Sandra\n",
      "Julbob teams up with Keanu\n",
      "Bob teams up with Alec\n",
      "Julian teams up with Keanu\n",
      "Al teams up with Julbob\n",
      "Brad teams up with Julbob\n",
      "Matt teams up with Alec\n",
      "Brad teams up with Sandra\n"
     ]
    }
   ],
   "source": [
    "import random\n",
    "\n",
    "for name in NAMES:\n",
    "    print(f\"{name.title().split()[0]} teams up with {NAMES[random.randint(0, len(names) - 1)].title().split()[0]}\")"
   ],
   "metadata": {
    "collapsed": false,
    "ExecuteTime": {
     "end_time": "2023-12-24T14:57:58.908463Z",
     "start_time": "2023-12-24T14:57:58.848245Z"
    }
   },
   "execution_count": 63
  },
  {
   "cell_type": "markdown",
   "metadata": {},
   "source": [
    "## Third day: solution / simulate unix pipelines"
   ]
  },
  {
   "cell_type": "markdown",
   "metadata": {},
   "source": [
    "I hope yesterday's exercise was reasonably doable for you. Here are the answers in case you got stuck:"
   ]
  },
  {
   "cell_type": "code",
   "execution_count": 33,
   "metadata": {},
   "outputs": [
    {
     "data": {
      "text/plain": [
       "['Arnold Schwarzenegger',\n",
       " 'Alec Baldwin',\n",
       " 'Bob Belderbos',\n",
       " 'Julian Sequeira',\n",
       " 'Sandra Bullock',\n",
       " 'Keanu Reeves',\n",
       " 'Julbob Pybites',\n",
       " 'Bob Belderbos',\n",
       " 'Julian Sequeira',\n",
       " 'Al Pacino',\n",
       " 'Brad Pitt',\n",
       " 'Matt Damon',\n",
       " 'Brad Pitt']"
      ]
     },
     "execution_count": 33,
     "metadata": {},
     "output_type": "execute_result"
    }
   ],
   "source": [
    "# list comprehension to title case names\n",
    "[name.title() for name in NAMES]"
   ]
  },
  {
   "cell_type": "code",
   "execution_count": 34,
   "metadata": {},
   "outputs": [
    {
     "data": {
      "text/plain": [
       "['schwarzenegger arnold',\n",
       " 'baldwin alec',\n",
       " 'belderbos bob',\n",
       " 'sequeira julian',\n",
       " 'bullock sandra',\n",
       " 'reeves keanu',\n",
       " 'pybites julbob',\n",
       " 'belderbos bob',\n",
       " 'sequeira julian',\n",
       " 'pacino al',\n",
       " 'pitt brad',\n",
       " 'damon matt',\n",
       " 'pitt brad']"
      ]
     },
     "execution_count": 34,
     "metadata": {},
     "output_type": "execute_result"
    }
   ],
   "source": [
    "# list comprehension to reverse first and last names\n",
    "# using a helper here to show you that list comprehensions can be passed in functions!\n",
    "\n",
    "def reverse_first_last_names(name):\n",
    "    first, last = name.split()\n",
    "    # ' '.join([last, first]) -- wait we have f-strings now (>= 3.6)\n",
    "    return f'{last} {first}'\n",
    "\n",
    "[reverse_first_last_names(name) for name in NAMES]"
   ]
  },
  {
   "cell_type": "code",
   "execution_count": 35,
   "metadata": {},
   "outputs": [],
   "source": [
    "def gen_pairs():\n",
    "    # again a list comprehension is great here to get the first names\n",
    "    # and title case them in just 1 line of code (this comment took 2)\n",
    "    first_names = [name.split()[0].title() for name in NAMES]\n",
    "    while True:\n",
    "        \n",
    "        # added this when I saw Julian teaming up with Julian (always test your code!)\n",
    "        first, second = None, None\n",
    "        while first == second: \n",
    "            first, second = random.sample(first_names, 2)\n",
    "        \n",
    "        yield f'{first} teams up with {second}'"
   ]
  },
  {
   "cell_type": "code",
   "execution_count": 36,
   "metadata": {},
   "outputs": [
    {
     "name": "stdout",
     "output_type": "stream",
     "text": [
      "Alec teams up with Julbob\n",
      "Keanu teams up with Bob\n",
      "Keanu teams up with Julbob\n",
      "Julian teams up with Arnold\n",
      "Bob teams up with Alec\n",
      "Matt teams up with Alec\n",
      "Julbob teams up with Brad\n",
      "Julian teams up with Alec\n",
      "Julian teams up with Julbob\n",
      "Julbob teams up with Julian\n"
     ]
    }
   ],
   "source": [
    "pairs = gen_pairs()\n",
    "for _ in range(10):\n",
    "    print(next(pairs))"
   ]
  },
  {
   "cell_type": "markdown",
   "metadata": {},
   "source": [
    "Another way to get a slice of a generator is using `itertools.islice`:"
   ]
  },
  {
   "cell_type": "code",
   "execution_count": 37,
   "metadata": {},
   "outputs": [
    {
     "data": {
      "text/plain": [
       "<itertools.islice at 0x10b1002c8>"
      ]
     },
     "execution_count": 37,
     "metadata": {},
     "output_type": "execute_result"
    }
   ],
   "source": [
    "first_ten = itertools.islice(pairs, 10)\n",
    "first_ten"
   ]
  },
  {
   "cell_type": "code",
   "execution_count": 38,
   "metadata": {},
   "outputs": [
    {
     "data": {
      "text/plain": [
       "['Sandra teams up with Julian',\n",
       " 'Matt teams up with Julian',\n",
       " 'Al teams up with Julian',\n",
       " 'Brad teams up with Julian',\n",
       " 'Alec teams up with Arnold',\n",
       " 'Matt teams up with Bob',\n",
       " 'Matt teams up with Julian',\n",
       " 'Julbob teams up with Julian',\n",
       " 'Brad teams up with Julian',\n",
       " 'Julian teams up with Julbob']"
      ]
     },
     "execution_count": 38,
     "metadata": {},
     "output_type": "execute_result"
    }
   ],
   "source": [
    "list(first_ten)"
   ]
  },
  {
   "cell_type": "markdown",
   "metadata": {},
   "source": [
    "### Further practice"
   ]
  },
  {
   "cell_type": "markdown",
   "metadata": {},
   "source": [
    "Read up on set and dict comprehensions, then try these two Bites:\n",
    "- [Bite 5. Parse a list of names](https://codechalleng.es/bites/5/) (use a set comprehension in first function)\n",
    "- [Bite 26. Dictionary comprehensions are awesome](https://codechalleng.es/bites/promo/awesome-dict-comprehensions)"
   ]
  },
  {
   "cell_type": "markdown",
   "metadata": {},
   "source": [
    "Here is a more advanced generators exercise you can try: [Code Challenge 11 - Generators for Fun and Profit](https://codechalleng.es/challenges/11/)"
   ]
  },
  {
   "cell_type": "markdown",
   "metadata": {},
   "source": [
    "### Time to share what you've accomplished!\n",
    "\n",
    "Be sure to share your last couple of days work on Twitter or Facebook. Use the hashtag **#100DaysOfCode**. \n",
    "\n",
    "Here are [some examples](https://twitter.com/search?q=%23100DaysOfCode) to inspire you. Consider including [@talkpython](https://twitter.com/talkpython) and [@pybites](https://twitter.com/pybites) in your tweets.\n",
    "\n",
    "*See a mistake in these instructions? Please [submit a new issue](https://github.com/talkpython/100daysofcode-with-python-course/issues) or fix it and [submit a PR](https://github.com/talkpython/100daysofcode-with-python-course/pulls).*"
   ]
  }
 ],
 "metadata": {
  "kernelspec": {
   "name": "python3",
   "language": "python",
   "display_name": "Python 3 (ipykernel)"
  },
  "language_info": {
   "codemirror_mode": {
    "name": "ipython",
    "version": 3
   },
   "file_extension": ".py",
   "mimetype": "text/x-python",
   "name": "python",
   "nbconvert_exporter": "python",
   "pygments_lexer": "ipython3",
   "version": "3.6.1"
  }
 },
 "nbformat": 4,
 "nbformat_minor": 2
}
